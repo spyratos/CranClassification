{
 "cells": [
  {
   "cell_type": "markdown",
   "metadata": {},
   "source": [
    "## Prepare Project\n",
    "\n",
    "1. Load libraries\n",
    "2. Load dataset"
   ]
  },
  {
   "cell_type": "code",
   "execution_count": 1,
   "metadata": {},
   "outputs": [
    {
     "name": "stdout",
     "output_type": "stream",
     "text": [
      "CPU times: user 548 ms, sys: 96 ms, total: 644 ms\n",
      "Wall time: 683 ms\n"
     ]
    },
    {
     "name": "stderr",
     "output_type": "stream",
     "text": [
      "/home/mscuser/anaconda2/lib/python2.7/site-packages/sklearn/cross_validation.py:44: DeprecationWarning: This module was deprecated in version 0.18 in favor of the model_selection module into which all the refactored classes and functions are moved. Also note that the interface of the new CV iterators are different from that of this module. This module will be removed in 0.20.\n",
      "  \"This module will be removed in 0.20.\", DeprecationWarning)\n"
     ]
    }
   ],
   "source": [
    "%%time\n",
    "import pandas as pd\n",
    "import numpy as np\n",
    "import seaborn as sns\n",
    "import matplotlib.pyplot as plt\n",
    "%matplotlib inline\n",
    "from sklearn.linear_model import LogisticRegression\n",
    "from sklearn.tree import DecisionTreeClassifier\n",
    "from sklearn.neighbors import KNeighborsClassifier\n",
    "from sklearn.discriminant_analysis import LinearDiscriminantAnalysis\n",
    "from sklearn.naive_bayes import GaussianNB\n",
    "from sklearn.svm import SVC\n",
    "from sklearn.model_selection import train_test_split\n",
    "from sklearn.model_selection import KFold\n",
    "from sklearn.model_selection import cross_val_score\n",
    "from sklearn.metrics import accuracy_score\n",
    "from sklearn import cross_validation\n",
    "from sklearn.metrics import confusion_matrix\n",
    "from sklearn.preprocessing import StandardScaler"
   ]
  },
  {
   "cell_type": "code",
   "execution_count": 2,
   "metadata": {
    "collapsed": true
   },
   "outputs": [],
   "source": [
    "df = pd.read_csv('crandata.csv')"
   ]
  },
  {
   "cell_type": "markdown",
   "metadata": {},
   "source": [
    "##  Define Problem\n"
   ]
  },
  {
   "cell_type": "markdown",
   "metadata": {},
   "source": [
    "Our task in the given data set is to find the most suitable classification algorithm for our dataset, fine tune the model and train it in order to be able to recognize handwritten digits and classify them accordignly to buckets between 0 and 9"
   ]
  },
  {
   "cell_type": "markdown",
   "metadata": {},
   "source": [
    "##  Exploratory Analysis\n"
   ]
  },
  {
   "cell_type": "code",
   "execution_count": 3,
   "metadata": {},
   "outputs": [
    {
     "name": "stdout",
     "output_type": "stream",
     "text": [
      "(42000, 785)\n"
     ]
    }
   ],
   "source": [
    "print (df.shape)"
   ]
  },
  {
   "cell_type": "markdown",
   "metadata": {},
   "source": [
    "We can see 42000 instances with 785 columns. 784 pixels(features) and 1 'label' value with the actuall number shown in the image"
   ]
  },
  {
   "cell_type": "code",
   "execution_count": 4,
   "metadata": {},
   "outputs": [
    {
     "data": {
      "text/html": [
       "<div>\n",
       "<style>\n",
       "    .dataframe thead tr:only-child th {\n",
       "        text-align: right;\n",
       "    }\n",
       "\n",
       "    .dataframe thead th {\n",
       "        text-align: left;\n",
       "    }\n",
       "\n",
       "    .dataframe tbody tr th {\n",
       "        vertical-align: top;\n",
       "    }\n",
       "</style>\n",
       "<table border=\"1\" class=\"dataframe\">\n",
       "  <thead>\n",
       "    <tr style=\"text-align: right;\">\n",
       "      <th></th>\n",
       "      <th>label</th>\n",
       "      <th>pixel0</th>\n",
       "      <th>pixel1</th>\n",
       "      <th>pixel2</th>\n",
       "      <th>pixel3</th>\n",
       "      <th>pixel4</th>\n",
       "      <th>pixel5</th>\n",
       "      <th>pixel6</th>\n",
       "      <th>pixel7</th>\n",
       "      <th>pixel8</th>\n",
       "      <th>...</th>\n",
       "      <th>pixel774</th>\n",
       "      <th>pixel775</th>\n",
       "      <th>pixel776</th>\n",
       "      <th>pixel777</th>\n",
       "      <th>pixel778</th>\n",
       "      <th>pixel779</th>\n",
       "      <th>pixel780</th>\n",
       "      <th>pixel781</th>\n",
       "      <th>pixel782</th>\n",
       "      <th>pixel783</th>\n",
       "    </tr>\n",
       "  </thead>\n",
       "  <tbody>\n",
       "    <tr>\n",
       "      <th>0</th>\n",
       "      <td>1</td>\n",
       "      <td>0</td>\n",
       "      <td>0</td>\n",
       "      <td>0</td>\n",
       "      <td>0</td>\n",
       "      <td>0</td>\n",
       "      <td>0</td>\n",
       "      <td>0</td>\n",
       "      <td>0</td>\n",
       "      <td>0</td>\n",
       "      <td>...</td>\n",
       "      <td>0</td>\n",
       "      <td>0</td>\n",
       "      <td>0</td>\n",
       "      <td>0</td>\n",
       "      <td>0</td>\n",
       "      <td>0</td>\n",
       "      <td>0</td>\n",
       "      <td>0</td>\n",
       "      <td>0</td>\n",
       "      <td>0</td>\n",
       "    </tr>\n",
       "    <tr>\n",
       "      <th>1</th>\n",
       "      <td>0</td>\n",
       "      <td>0</td>\n",
       "      <td>0</td>\n",
       "      <td>0</td>\n",
       "      <td>0</td>\n",
       "      <td>0</td>\n",
       "      <td>0</td>\n",
       "      <td>0</td>\n",
       "      <td>0</td>\n",
       "      <td>0</td>\n",
       "      <td>...</td>\n",
       "      <td>0</td>\n",
       "      <td>0</td>\n",
       "      <td>0</td>\n",
       "      <td>0</td>\n",
       "      <td>0</td>\n",
       "      <td>0</td>\n",
       "      <td>0</td>\n",
       "      <td>0</td>\n",
       "      <td>0</td>\n",
       "      <td>0</td>\n",
       "    </tr>\n",
       "    <tr>\n",
       "      <th>2</th>\n",
       "      <td>1</td>\n",
       "      <td>0</td>\n",
       "      <td>0</td>\n",
       "      <td>0</td>\n",
       "      <td>0</td>\n",
       "      <td>0</td>\n",
       "      <td>0</td>\n",
       "      <td>0</td>\n",
       "      <td>0</td>\n",
       "      <td>0</td>\n",
       "      <td>...</td>\n",
       "      <td>0</td>\n",
       "      <td>0</td>\n",
       "      <td>0</td>\n",
       "      <td>0</td>\n",
       "      <td>0</td>\n",
       "      <td>0</td>\n",
       "      <td>0</td>\n",
       "      <td>0</td>\n",
       "      <td>0</td>\n",
       "      <td>0</td>\n",
       "    </tr>\n",
       "    <tr>\n",
       "      <th>3</th>\n",
       "      <td>4</td>\n",
       "      <td>0</td>\n",
       "      <td>0</td>\n",
       "      <td>0</td>\n",
       "      <td>0</td>\n",
       "      <td>0</td>\n",
       "      <td>0</td>\n",
       "      <td>0</td>\n",
       "      <td>0</td>\n",
       "      <td>0</td>\n",
       "      <td>...</td>\n",
       "      <td>0</td>\n",
       "      <td>0</td>\n",
       "      <td>0</td>\n",
       "      <td>0</td>\n",
       "      <td>0</td>\n",
       "      <td>0</td>\n",
       "      <td>0</td>\n",
       "      <td>0</td>\n",
       "      <td>0</td>\n",
       "      <td>0</td>\n",
       "    </tr>\n",
       "    <tr>\n",
       "      <th>4</th>\n",
       "      <td>0</td>\n",
       "      <td>0</td>\n",
       "      <td>0</td>\n",
       "      <td>0</td>\n",
       "      <td>0</td>\n",
       "      <td>0</td>\n",
       "      <td>0</td>\n",
       "      <td>0</td>\n",
       "      <td>0</td>\n",
       "      <td>0</td>\n",
       "      <td>...</td>\n",
       "      <td>0</td>\n",
       "      <td>0</td>\n",
       "      <td>0</td>\n",
       "      <td>0</td>\n",
       "      <td>0</td>\n",
       "      <td>0</td>\n",
       "      <td>0</td>\n",
       "      <td>0</td>\n",
       "      <td>0</td>\n",
       "      <td>0</td>\n",
       "    </tr>\n",
       "    <tr>\n",
       "      <th>5</th>\n",
       "      <td>0</td>\n",
       "      <td>0</td>\n",
       "      <td>0</td>\n",
       "      <td>0</td>\n",
       "      <td>0</td>\n",
       "      <td>0</td>\n",
       "      <td>0</td>\n",
       "      <td>0</td>\n",
       "      <td>0</td>\n",
       "      <td>0</td>\n",
       "      <td>...</td>\n",
       "      <td>0</td>\n",
       "      <td>0</td>\n",
       "      <td>0</td>\n",
       "      <td>0</td>\n",
       "      <td>0</td>\n",
       "      <td>0</td>\n",
       "      <td>0</td>\n",
       "      <td>0</td>\n",
       "      <td>0</td>\n",
       "      <td>0</td>\n",
       "    </tr>\n",
       "    <tr>\n",
       "      <th>6</th>\n",
       "      <td>7</td>\n",
       "      <td>0</td>\n",
       "      <td>0</td>\n",
       "      <td>0</td>\n",
       "      <td>0</td>\n",
       "      <td>0</td>\n",
       "      <td>0</td>\n",
       "      <td>0</td>\n",
       "      <td>0</td>\n",
       "      <td>0</td>\n",
       "      <td>...</td>\n",
       "      <td>0</td>\n",
       "      <td>0</td>\n",
       "      <td>0</td>\n",
       "      <td>0</td>\n",
       "      <td>0</td>\n",
       "      <td>0</td>\n",
       "      <td>0</td>\n",
       "      <td>0</td>\n",
       "      <td>0</td>\n",
       "      <td>0</td>\n",
       "    </tr>\n",
       "    <tr>\n",
       "      <th>7</th>\n",
       "      <td>3</td>\n",
       "      <td>0</td>\n",
       "      <td>0</td>\n",
       "      <td>0</td>\n",
       "      <td>0</td>\n",
       "      <td>0</td>\n",
       "      <td>0</td>\n",
       "      <td>0</td>\n",
       "      <td>0</td>\n",
       "      <td>0</td>\n",
       "      <td>...</td>\n",
       "      <td>0</td>\n",
       "      <td>0</td>\n",
       "      <td>0</td>\n",
       "      <td>0</td>\n",
       "      <td>0</td>\n",
       "      <td>0</td>\n",
       "      <td>0</td>\n",
       "      <td>0</td>\n",
       "      <td>0</td>\n",
       "      <td>0</td>\n",
       "    </tr>\n",
       "    <tr>\n",
       "      <th>8</th>\n",
       "      <td>5</td>\n",
       "      <td>0</td>\n",
       "      <td>0</td>\n",
       "      <td>0</td>\n",
       "      <td>0</td>\n",
       "      <td>0</td>\n",
       "      <td>0</td>\n",
       "      <td>0</td>\n",
       "      <td>0</td>\n",
       "      <td>0</td>\n",
       "      <td>...</td>\n",
       "      <td>0</td>\n",
       "      <td>0</td>\n",
       "      <td>0</td>\n",
       "      <td>0</td>\n",
       "      <td>0</td>\n",
       "      <td>0</td>\n",
       "      <td>0</td>\n",
       "      <td>0</td>\n",
       "      <td>0</td>\n",
       "      <td>0</td>\n",
       "    </tr>\n",
       "    <tr>\n",
       "      <th>9</th>\n",
       "      <td>3</td>\n",
       "      <td>0</td>\n",
       "      <td>0</td>\n",
       "      <td>0</td>\n",
       "      <td>0</td>\n",
       "      <td>0</td>\n",
       "      <td>0</td>\n",
       "      <td>0</td>\n",
       "      <td>0</td>\n",
       "      <td>0</td>\n",
       "      <td>...</td>\n",
       "      <td>0</td>\n",
       "      <td>0</td>\n",
       "      <td>0</td>\n",
       "      <td>0</td>\n",
       "      <td>0</td>\n",
       "      <td>0</td>\n",
       "      <td>0</td>\n",
       "      <td>0</td>\n",
       "      <td>0</td>\n",
       "      <td>0</td>\n",
       "    </tr>\n",
       "  </tbody>\n",
       "</table>\n",
       "<p>10 rows × 785 columns</p>\n",
       "</div>"
      ],
      "text/plain": [
       "   label  pixel0  pixel1  pixel2  pixel3  pixel4  pixel5  pixel6  pixel7  \\\n",
       "0      1       0       0       0       0       0       0       0       0   \n",
       "1      0       0       0       0       0       0       0       0       0   \n",
       "2      1       0       0       0       0       0       0       0       0   \n",
       "3      4       0       0       0       0       0       0       0       0   \n",
       "4      0       0       0       0       0       0       0       0       0   \n",
       "5      0       0       0       0       0       0       0       0       0   \n",
       "6      7       0       0       0       0       0       0       0       0   \n",
       "7      3       0       0       0       0       0       0       0       0   \n",
       "8      5       0       0       0       0       0       0       0       0   \n",
       "9      3       0       0       0       0       0       0       0       0   \n",
       "\n",
       "   pixel8    ...     pixel774  pixel775  pixel776  pixel777  pixel778  \\\n",
       "0       0    ...            0         0         0         0         0   \n",
       "1       0    ...            0         0         0         0         0   \n",
       "2       0    ...            0         0         0         0         0   \n",
       "3       0    ...            0         0         0         0         0   \n",
       "4       0    ...            0         0         0         0         0   \n",
       "5       0    ...            0         0         0         0         0   \n",
       "6       0    ...            0         0         0         0         0   \n",
       "7       0    ...            0         0         0         0         0   \n",
       "8       0    ...            0         0         0         0         0   \n",
       "9       0    ...            0         0         0         0         0   \n",
       "\n",
       "   pixel779  pixel780  pixel781  pixel782  pixel783  \n",
       "0         0         0         0         0         0  \n",
       "1         0         0         0         0         0  \n",
       "2         0         0         0         0         0  \n",
       "3         0         0         0         0         0  \n",
       "4         0         0         0         0         0  \n",
       "5         0         0         0         0         0  \n",
       "6         0         0         0         0         0  \n",
       "7         0         0         0         0         0  \n",
       "8         0         0         0         0         0  \n",
       "9         0         0         0         0         0  \n",
       "\n",
       "[10 rows x 785 columns]"
      ]
     },
     "execution_count": 4,
     "metadata": {},
     "output_type": "execute_result"
    }
   ],
   "source": [
    "df.head(10)"
   ]
  },
  {
   "cell_type": "code",
   "execution_count": 5,
   "metadata": {},
   "outputs": [
    {
     "data": {
      "text/html": [
       "<div>\n",
       "<style>\n",
       "    .dataframe thead tr:only-child th {\n",
       "        text-align: right;\n",
       "    }\n",
       "\n",
       "    .dataframe thead th {\n",
       "        text-align: left;\n",
       "    }\n",
       "\n",
       "    .dataframe tbody tr th {\n",
       "        vertical-align: top;\n",
       "    }\n",
       "</style>\n",
       "<table border=\"1\" class=\"dataframe\">\n",
       "  <thead>\n",
       "    <tr style=\"text-align: right;\">\n",
       "      <th></th>\n",
       "      <th>label</th>\n",
       "      <th>pixel0</th>\n",
       "      <th>pixel1</th>\n",
       "      <th>pixel2</th>\n",
       "      <th>pixel3</th>\n",
       "      <th>pixel4</th>\n",
       "      <th>pixel5</th>\n",
       "      <th>pixel6</th>\n",
       "      <th>pixel7</th>\n",
       "      <th>pixel8</th>\n",
       "      <th>...</th>\n",
       "      <th>pixel774</th>\n",
       "      <th>pixel775</th>\n",
       "      <th>pixel776</th>\n",
       "      <th>pixel777</th>\n",
       "      <th>pixel778</th>\n",
       "      <th>pixel779</th>\n",
       "      <th>pixel780</th>\n",
       "      <th>pixel781</th>\n",
       "      <th>pixel782</th>\n",
       "      <th>pixel783</th>\n",
       "    </tr>\n",
       "  </thead>\n",
       "  <tbody>\n",
       "    <tr>\n",
       "      <th>count</th>\n",
       "      <td>42000.000000</td>\n",
       "      <td>42000.0</td>\n",
       "      <td>42000.0</td>\n",
       "      <td>42000.0</td>\n",
       "      <td>42000.0</td>\n",
       "      <td>42000.0</td>\n",
       "      <td>42000.0</td>\n",
       "      <td>42000.0</td>\n",
       "      <td>42000.0</td>\n",
       "      <td>42000.0</td>\n",
       "      <td>...</td>\n",
       "      <td>42000.000000</td>\n",
       "      <td>42000.000000</td>\n",
       "      <td>42000.000000</td>\n",
       "      <td>42000.00000</td>\n",
       "      <td>42000.000000</td>\n",
       "      <td>42000.000000</td>\n",
       "      <td>42000.0</td>\n",
       "      <td>42000.0</td>\n",
       "      <td>42000.0</td>\n",
       "      <td>42000.0</td>\n",
       "    </tr>\n",
       "    <tr>\n",
       "      <th>mean</th>\n",
       "      <td>4.456643</td>\n",
       "      <td>0.0</td>\n",
       "      <td>0.0</td>\n",
       "      <td>0.0</td>\n",
       "      <td>0.0</td>\n",
       "      <td>0.0</td>\n",
       "      <td>0.0</td>\n",
       "      <td>0.0</td>\n",
       "      <td>0.0</td>\n",
       "      <td>0.0</td>\n",
       "      <td>...</td>\n",
       "      <td>0.219286</td>\n",
       "      <td>0.117095</td>\n",
       "      <td>0.059024</td>\n",
       "      <td>0.02019</td>\n",
       "      <td>0.017238</td>\n",
       "      <td>0.002857</td>\n",
       "      <td>0.0</td>\n",
       "      <td>0.0</td>\n",
       "      <td>0.0</td>\n",
       "      <td>0.0</td>\n",
       "    </tr>\n",
       "    <tr>\n",
       "      <th>std</th>\n",
       "      <td>2.887730</td>\n",
       "      <td>0.0</td>\n",
       "      <td>0.0</td>\n",
       "      <td>0.0</td>\n",
       "      <td>0.0</td>\n",
       "      <td>0.0</td>\n",
       "      <td>0.0</td>\n",
       "      <td>0.0</td>\n",
       "      <td>0.0</td>\n",
       "      <td>0.0</td>\n",
       "      <td>...</td>\n",
       "      <td>6.312890</td>\n",
       "      <td>4.633819</td>\n",
       "      <td>3.274488</td>\n",
       "      <td>1.75987</td>\n",
       "      <td>1.894498</td>\n",
       "      <td>0.414264</td>\n",
       "      <td>0.0</td>\n",
       "      <td>0.0</td>\n",
       "      <td>0.0</td>\n",
       "      <td>0.0</td>\n",
       "    </tr>\n",
       "    <tr>\n",
       "      <th>min</th>\n",
       "      <td>0.000000</td>\n",
       "      <td>0.0</td>\n",
       "      <td>0.0</td>\n",
       "      <td>0.0</td>\n",
       "      <td>0.0</td>\n",
       "      <td>0.0</td>\n",
       "      <td>0.0</td>\n",
       "      <td>0.0</td>\n",
       "      <td>0.0</td>\n",
       "      <td>0.0</td>\n",
       "      <td>...</td>\n",
       "      <td>0.000000</td>\n",
       "      <td>0.000000</td>\n",
       "      <td>0.000000</td>\n",
       "      <td>0.00000</td>\n",
       "      <td>0.000000</td>\n",
       "      <td>0.000000</td>\n",
       "      <td>0.0</td>\n",
       "      <td>0.0</td>\n",
       "      <td>0.0</td>\n",
       "      <td>0.0</td>\n",
       "    </tr>\n",
       "    <tr>\n",
       "      <th>25%</th>\n",
       "      <td>2.000000</td>\n",
       "      <td>0.0</td>\n",
       "      <td>0.0</td>\n",
       "      <td>0.0</td>\n",
       "      <td>0.0</td>\n",
       "      <td>0.0</td>\n",
       "      <td>0.0</td>\n",
       "      <td>0.0</td>\n",
       "      <td>0.0</td>\n",
       "      <td>0.0</td>\n",
       "      <td>...</td>\n",
       "      <td>0.000000</td>\n",
       "      <td>0.000000</td>\n",
       "      <td>0.000000</td>\n",
       "      <td>0.00000</td>\n",
       "      <td>0.000000</td>\n",
       "      <td>0.000000</td>\n",
       "      <td>0.0</td>\n",
       "      <td>0.0</td>\n",
       "      <td>0.0</td>\n",
       "      <td>0.0</td>\n",
       "    </tr>\n",
       "    <tr>\n",
       "      <th>50%</th>\n",
       "      <td>4.000000</td>\n",
       "      <td>0.0</td>\n",
       "      <td>0.0</td>\n",
       "      <td>0.0</td>\n",
       "      <td>0.0</td>\n",
       "      <td>0.0</td>\n",
       "      <td>0.0</td>\n",
       "      <td>0.0</td>\n",
       "      <td>0.0</td>\n",
       "      <td>0.0</td>\n",
       "      <td>...</td>\n",
       "      <td>0.000000</td>\n",
       "      <td>0.000000</td>\n",
       "      <td>0.000000</td>\n",
       "      <td>0.00000</td>\n",
       "      <td>0.000000</td>\n",
       "      <td>0.000000</td>\n",
       "      <td>0.0</td>\n",
       "      <td>0.0</td>\n",
       "      <td>0.0</td>\n",
       "      <td>0.0</td>\n",
       "    </tr>\n",
       "    <tr>\n",
       "      <th>75%</th>\n",
       "      <td>7.000000</td>\n",
       "      <td>0.0</td>\n",
       "      <td>0.0</td>\n",
       "      <td>0.0</td>\n",
       "      <td>0.0</td>\n",
       "      <td>0.0</td>\n",
       "      <td>0.0</td>\n",
       "      <td>0.0</td>\n",
       "      <td>0.0</td>\n",
       "      <td>0.0</td>\n",
       "      <td>...</td>\n",
       "      <td>0.000000</td>\n",
       "      <td>0.000000</td>\n",
       "      <td>0.000000</td>\n",
       "      <td>0.00000</td>\n",
       "      <td>0.000000</td>\n",
       "      <td>0.000000</td>\n",
       "      <td>0.0</td>\n",
       "      <td>0.0</td>\n",
       "      <td>0.0</td>\n",
       "      <td>0.0</td>\n",
       "    </tr>\n",
       "    <tr>\n",
       "      <th>max</th>\n",
       "      <td>9.000000</td>\n",
       "      <td>0.0</td>\n",
       "      <td>0.0</td>\n",
       "      <td>0.0</td>\n",
       "      <td>0.0</td>\n",
       "      <td>0.0</td>\n",
       "      <td>0.0</td>\n",
       "      <td>0.0</td>\n",
       "      <td>0.0</td>\n",
       "      <td>0.0</td>\n",
       "      <td>...</td>\n",
       "      <td>254.000000</td>\n",
       "      <td>254.000000</td>\n",
       "      <td>253.000000</td>\n",
       "      <td>253.00000</td>\n",
       "      <td>254.000000</td>\n",
       "      <td>62.000000</td>\n",
       "      <td>0.0</td>\n",
       "      <td>0.0</td>\n",
       "      <td>0.0</td>\n",
       "      <td>0.0</td>\n",
       "    </tr>\n",
       "  </tbody>\n",
       "</table>\n",
       "<p>8 rows × 785 columns</p>\n",
       "</div>"
      ],
      "text/plain": [
       "              label   pixel0   pixel1   pixel2   pixel3   pixel4   pixel5  \\\n",
       "count  42000.000000  42000.0  42000.0  42000.0  42000.0  42000.0  42000.0   \n",
       "mean       4.456643      0.0      0.0      0.0      0.0      0.0      0.0   \n",
       "std        2.887730      0.0      0.0      0.0      0.0      0.0      0.0   \n",
       "min        0.000000      0.0      0.0      0.0      0.0      0.0      0.0   \n",
       "25%        2.000000      0.0      0.0      0.0      0.0      0.0      0.0   \n",
       "50%        4.000000      0.0      0.0      0.0      0.0      0.0      0.0   \n",
       "75%        7.000000      0.0      0.0      0.0      0.0      0.0      0.0   \n",
       "max        9.000000      0.0      0.0      0.0      0.0      0.0      0.0   \n",
       "\n",
       "        pixel6   pixel7   pixel8    ...         pixel774      pixel775  \\\n",
       "count  42000.0  42000.0  42000.0    ...     42000.000000  42000.000000   \n",
       "mean       0.0      0.0      0.0    ...         0.219286      0.117095   \n",
       "std        0.0      0.0      0.0    ...         6.312890      4.633819   \n",
       "min        0.0      0.0      0.0    ...         0.000000      0.000000   \n",
       "25%        0.0      0.0      0.0    ...         0.000000      0.000000   \n",
       "50%        0.0      0.0      0.0    ...         0.000000      0.000000   \n",
       "75%        0.0      0.0      0.0    ...         0.000000      0.000000   \n",
       "max        0.0      0.0      0.0    ...       254.000000    254.000000   \n",
       "\n",
       "           pixel776     pixel777      pixel778      pixel779  pixel780  \\\n",
       "count  42000.000000  42000.00000  42000.000000  42000.000000   42000.0   \n",
       "mean       0.059024      0.02019      0.017238      0.002857       0.0   \n",
       "std        3.274488      1.75987      1.894498      0.414264       0.0   \n",
       "min        0.000000      0.00000      0.000000      0.000000       0.0   \n",
       "25%        0.000000      0.00000      0.000000      0.000000       0.0   \n",
       "50%        0.000000      0.00000      0.000000      0.000000       0.0   \n",
       "75%        0.000000      0.00000      0.000000      0.000000       0.0   \n",
       "max      253.000000    253.00000    254.000000     62.000000       0.0   \n",
       "\n",
       "       pixel781  pixel782  pixel783  \n",
       "count   42000.0   42000.0   42000.0  \n",
       "mean        0.0       0.0       0.0  \n",
       "std         0.0       0.0       0.0  \n",
       "min         0.0       0.0       0.0  \n",
       "25%         0.0       0.0       0.0  \n",
       "50%         0.0       0.0       0.0  \n",
       "75%         0.0       0.0       0.0  \n",
       "max         0.0       0.0       0.0  \n",
       "\n",
       "[8 rows x 785 columns]"
      ]
     },
     "execution_count": 5,
     "metadata": {},
     "output_type": "execute_result"
    }
   ],
   "source": [
    "df.describe()"
   ]
  },
  {
   "cell_type": "markdown",
   "metadata": {},
   "source": [
    "From a brief peek at the data we can see that we have the capability of reducing the number of pixels (features) for the images in our dataset as there are pixels that are exactly the same for the whole dataset (zero valued). These pixels offer near zero information to our models regarding the class of the image."
   ]
  },
  {
   "cell_type": "code",
   "execution_count": 6,
   "metadata": {},
   "outputs": [
    {
     "data": {
      "text/plain": [
       "label\n",
       "0    4132\n",
       "1    4684\n",
       "2    4177\n",
       "3    4351\n",
       "4    4072\n",
       "5    3795\n",
       "6    4137\n",
       "7    4401\n",
       "8    4063\n",
       "9    4188\n",
       "dtype: int64"
      ]
     },
     "execution_count": 6,
     "metadata": {},
     "output_type": "execute_result"
    }
   ],
   "source": [
    "df.groupby('label').size()"
   ]
  },
  {
   "cell_type": "markdown",
   "metadata": {},
   "source": [
    "We can verify that each class has similar number of instances with a greater difference between the buckets of 1's (4684) and 5's (3795) of 889 instances. This kind of difference is quite small in relation with the 42000 instances in our dataset and probably wont affect much our models "
   ]
  },
  {
   "cell_type": "markdown",
   "metadata": {},
   "source": [
    "##  Prepare Data\n",
    "Data Cleaning/Data Wrangling/Collect more data (if necessary)."
   ]
  },
  {
   "cell_type": "code",
   "execution_count": 7,
   "metadata": {},
   "outputs": [
    {
     "data": {
      "text/plain": [
       "label       False\n",
       "pixel0      False\n",
       "pixel1      False\n",
       "pixel2      False\n",
       "pixel3      False\n",
       "pixel4      False\n",
       "pixel5      False\n",
       "pixel6      False\n",
       "pixel7      False\n",
       "pixel8      False\n",
       "pixel9      False\n",
       "pixel10     False\n",
       "pixel11     False\n",
       "pixel12     False\n",
       "pixel13     False\n",
       "pixel14     False\n",
       "pixel15     False\n",
       "pixel16     False\n",
       "pixel17     False\n",
       "pixel18     False\n",
       "pixel19     False\n",
       "pixel20     False\n",
       "pixel21     False\n",
       "pixel22     False\n",
       "pixel23     False\n",
       "pixel24     False\n",
       "pixel25     False\n",
       "pixel26     False\n",
       "pixel27     False\n",
       "pixel28     False\n",
       "            ...  \n",
       "pixel754    False\n",
       "pixel755    False\n",
       "pixel756    False\n",
       "pixel757    False\n",
       "pixel758    False\n",
       "pixel759    False\n",
       "pixel760    False\n",
       "pixel761    False\n",
       "pixel762    False\n",
       "pixel763    False\n",
       "pixel764    False\n",
       "pixel765    False\n",
       "pixel766    False\n",
       "pixel767    False\n",
       "pixel768    False\n",
       "pixel769    False\n",
       "pixel770    False\n",
       "pixel771    False\n",
       "pixel772    False\n",
       "pixel773    False\n",
       "pixel774    False\n",
       "pixel775    False\n",
       "pixel776    False\n",
       "pixel777    False\n",
       "pixel778    False\n",
       "pixel779    False\n",
       "pixel780    False\n",
       "pixel781    False\n",
       "pixel782    False\n",
       "pixel783    False\n",
       "Length: 785, dtype: bool"
      ]
     },
     "execution_count": 7,
     "metadata": {},
     "output_type": "execute_result"
    }
   ],
   "source": [
    "df.isnull().any()"
   ]
  },
  {
   "cell_type": "markdown",
   "metadata": {},
   "source": [
    "The dataset seems to be complete without any empty values"
   ]
  },
  {
   "cell_type": "code",
   "execution_count": 8,
   "metadata": {
    "collapsed": true
   },
   "outputs": [],
   "source": [
    "X = df.iloc[:, 1:785]\n",
    "Y = df.iloc[:, 0]"
   ]
  },
  {
   "cell_type": "code",
   "execution_count": 9,
   "metadata": {
    "collapsed": true
   },
   "outputs": [],
   "source": [
    "X_train, X_test, Y_train, Y_test = train_test_split(X, Y, test_size=0.2, random_state=7)"
   ]
  },
  {
   "cell_type": "code",
   "execution_count": 10,
   "metadata": {},
   "outputs": [
    {
     "name": "stdout",
     "output_type": "stream",
     "text": [
      "(33600, 784)\n",
      "(8400, 784)\n",
      "(33600,)\n",
      "(8400,)\n"
     ]
    }
   ],
   "source": [
    "print X_train.shape\n",
    "print X_test.shape\n",
    "print Y_train.shape\n",
    "print Y_test.shape\n",
    "\n"
   ]
  },
  {
   "cell_type": "markdown",
   "metadata": {},
   "source": [
    "Here we separate the data from the target value and we split the data to train and test data (80 and 20 percent respectively)"
   ]
  },
  {
   "cell_type": "code",
   "execution_count": 37,
   "metadata": {
    "collapsed": true
   },
   "outputs": [],
   "source": [
    "scaler = StandardScaler()\n",
    "scaler.fit(X_train)\n",
    "X_train_scaled = scaler.transform(X_train)\n",
    "X_test_scaled = scaler.transform(X_test)"
   ]
  },
  {
   "cell_type": "markdown",
   "metadata": {},
   "source": [
    "We normalize the data with the StandardScaler in order to bring the data in the form of a Gaussian distribution with mean equal to zero and Variance equal to one."
   ]
  },
  {
   "cell_type": "markdown",
   "metadata": {},
   "source": [
    "## Step 5: Feature Engineering\n",
    "Feature selection/feture engineering (as in new features)/data transformations."
   ]
  },
  {
   "cell_type": "code",
   "execution_count": 38,
   "metadata": {},
   "outputs": [
    {
     "name": "stdout",
     "output_type": "stream",
     "text": [
      "3264524.53828\n"
     ]
    }
   ],
   "source": [
    "from sklearn.decomposition import PCA\n",
    "# feature extraction\n",
    "pca = PCA(.95 , random_state=7)\n",
    "pca.fit(X_train_scaled)\n",
    "X_train_pcaed = pca.transform(X_train_scaled)\n",
    "X_test_pcaed = pca.transform(X_test_scaled)\n",
    "print sum(pca.explained_variance_)"
   ]
  },
  {
   "cell_type": "markdown",
   "metadata": {},
   "source": [
    "Here we use the PCA algorithm in order to reduce the number of features by combining highly corellated features. We asked the PCA algorithm to automatically select the minimum number of components needed in order to retain 95 percent of the variance of our data. The 95% was chosen after experimenting and concluded to be one of the best possible choices in order to achieve quite good results with the models later on as well as reduce the number of features at a satisfactory level."
   ]
  },
  {
   "cell_type": "markdown",
   "metadata": {},
   "source": [
    "## Step 6: Algorithm Selection\n",
    "Select a set of algorithms to apply, select evaluation metrics, and evaluate/compare algorithms."
   ]
  },
  {
   "cell_type": "code",
   "execution_count": 18,
   "metadata": {
    "collapsed": true
   },
   "outputs": [],
   "source": [
    "kfold = KFold(n_splits=10, random_state=7)"
   ]
  },
  {
   "cell_type": "code",
   "execution_count": 24,
   "metadata": {
    "collapsed": true
   },
   "outputs": [],
   "source": [
    "models = []\n",
    "models.append(('LR',  LogisticRegression()))\n",
    "models.append(('LDA', LinearDiscriminantAnalysis()))\n",
    "models.append(('kNN', KNeighborsClassifier()))\n",
    "models.append(('DT',  DecisionTreeClassifier()))\n",
    "models.append(('NB',  GaussianNB()))\n",
    "models.append(('SVM', SVC()))"
   ]
  },
  {
   "cell_type": "code",
   "execution_count": 25,
   "metadata": {
    "collapsed": true
   },
   "outputs": [],
   "source": [
    "# The scoring function to use\n",
    "scoring = 'accuracy'"
   ]
  },
  {
   "cell_type": "code",
   "execution_count": 21,
   "metadata": {},
   "outputs": [
    {
     "name": "stdout",
     "output_type": "stream",
     "text": [
      " LR: 0.900900 (+/- 0.005485)\n"
     ]
    },
    {
     "name": "stderr",
     "output_type": "stream",
     "text": [
      "/home/mscuser/anaconda2/lib/python2.7/site-packages/sklearn/discriminant_analysis.py:455: UserWarning: The priors do not sum to 1. Renormalizing\n",
      "  UserWarning)\n"
     ]
    },
    {
     "name": "stdout",
     "output_type": "stream",
     "text": [
      "LDA: 0.865100 (+/- 0.004571)\n",
      "kNN: 0.948200 (+/- 0.007139)\n",
      " DT: 0.749400 (+/- 0.010249)\n",
      " NB: 0.852000 (+/- 0.006971)\n",
      "SVM: 0.112700 (+/- 0.004627)\n",
      "CPU times: user 2.19 s, sys: 356 ms, total: 2.55 s\n",
      "Wall time: 16min 34s\n"
     ]
    }
   ],
   "source": [
    "%%time\n",
    "results = []\n",
    "names   = []\n",
    "for name, model in models:\n",
    "    kfold = KFold(n_splits=10, random_state=7)\n",
    "    cv_results = cross_val_score(model, X_train_pcaed[:10000], Y_train[:10000], cv=kfold, scoring=scoring, n_jobs=2)\n",
    "    results.append(cv_results)\n",
    "    names.append(name)\n",
    "    print(\"%03s: %f (+/- %f)\" % (name, cv_results.mean(), cv_results.std()))"
   ]
  },
  {
   "cell_type": "code",
   "execution_count": 26,
   "metadata": {},
   "outputs": [
    {
     "name": "stdout",
     "output_type": "stream",
     "text": [
      " LR: 0.896600 (+/- 0.009728)\n"
     ]
    },
    {
     "name": "stderr",
     "output_type": "stream",
     "text": [
      "/home/mscuser/anaconda2/lib/python2.7/site-packages/sklearn/discriminant_analysis.py:455: UserWarning: The priors do not sum to 1. Renormalizing\n",
      "  UserWarning)\n"
     ]
    },
    {
     "name": "stdout",
     "output_type": "stream",
     "text": [
      "LDA: 0.861700 (+/- 0.004473)\n",
      "kNN: 0.917200 (+/- 0.008807)\n",
      " DT: 0.740900 (+/- 0.006774)\n",
      " NB: 0.449100 (+/- 0.016513)\n",
      "SVM: 0.932100 (+/- 0.007503)\n",
      "CPU times: user 2.85 s, sys: 296 ms, total: 3.14 s\n",
      "Wall time: 6min 13s\n"
     ]
    }
   ],
   "source": [
    "%%time\n",
    "results = []\n",
    "names   = []\n",
    "for name, model in models:\n",
    "    kfold = KFold(n_splits=10, random_state=7)\n",
    "    cv_results = cross_val_score(model, X_train_pcaed[:10000], Y_train[:10000], cv=kfold, scoring=scoring, n_jobs=2)\n",
    "    results.append(cv_results)\n",
    "    names.append(name)\n",
    "    print(\"%03s: %f (+/- %f)\" % (name, cv_results.mean(), cv_results.std()))"
   ]
  },
  {
   "cell_type": "markdown",
   "metadata": {},
   "source": [
    "At this point we are doing a ten Kfold cross validation for each of our selected algorithms and print their average accuracy scores. This is a quite time consuming process so we had to use 10000 instances from our train set instead of the whole train set. The reason we chose 10000 instances was that it drasticaly reduced the runtime of our tests while it was still enough to have a good peek on how each algorithm would perform on our actual dataset.\n",
    "\n",
    "So, after running our script we found out that the best scoring algorithm would be the support vector machine algorithm.\n"
   ]
  },
  {
   "cell_type": "markdown",
   "metadata": {},
   "source": [
    "## Step 7: Model Training\n",
    "Apply ensembles and improve performance by hyperparameter optimisation."
   ]
  },
  {
   "cell_type": "code",
   "execution_count": 17,
   "metadata": {},
   "outputs": [
    {
     "name": "stdout",
     "output_type": "stream",
     "text": [
      "RandomizedSearchCV 20 candidates parameter settings.\n",
      "{'std_train_score': array([ 0.        ,  0.        ,  0.        ,  0.00032433,  0.        ,\n",
      "        0.        ,  0.00046406,  0.        ,  0.        ,  0.00014209,\n",
      "        0.        ,  0.        ,  0.        ,  0.        ,  0.        ,\n",
      "        0.        ,  0.        ,  0.        ,  0.        ,  0.        ]), 'rank_test_score': array([17, 15, 12,  3, 11, 14,  1, 19,  7,  2, 19, 13,  4, 16,  8, 10,  9,\n",
      "       17,  6,  5], dtype=int32), 'mean_score_time': array([ 8.6324803 ,  8.58598638,  8.16102934,  4.15790462,  8.10032042,\n",
      "        8.53286131,  4.12160635,  8.71193568,  8.01218462,  3.67692494,\n",
      "        8.70928041,  8.17796342,  4.55283634,  8.4942623 ,  8.05515957,\n",
      "        8.00075936,  7.97337532,  8.71994638,  6.97291867,  6.38321535]), 'std_test_score': array([  1.83867079e-04,   5.09187531e-04,   2.57670515e-03,\n",
      "         1.75051829e-03,   3.39893714e-03,   2.59518518e-03,\n",
      "         2.35993027e-03,   5.60882813e-05,   7.02251180e-03,\n",
      "         2.94339821e-03,   5.60882813e-05,   4.01999113e-04,\n",
      "         2.49382897e-03,   9.73230280e-04,   1.17182363e-02,\n",
      "         4.76019442e-03,   8.77137866e-03,   1.83867079e-04,\n",
      "         1.15385936e-03,   2.86161676e-03]), 'param_gamma': masked_array(data = [0.21865347140571714 0.14804560990495677 0.041256046816885515\n",
      " 0.0016449526454171705 0.031597120213268784 0.25776094086318252\n",
      " 0.0015769177465114227 0.53552602750973266 0.022718093648132445\n",
      " 0.0011876751853526621 0.70857936570379576 0.044204833356897774\n",
      " 0.0025090443458586713 0.17833212198767007 0.025308043906324029\n",
      " 0.029668641940548336 0.027052254503857703 0.32640288064088641\n",
      " 0.0087495160396715479 0.0067320470873796466],\n",
      "             mask = [False False False False False False False False False False False False\n",
      " False False False False False False False False],\n",
      "       fill_value = ?)\n",
      ", 'split1_train_score': array([ 1.        ,  1.        ,  1.        ,  0.99759976,  1.        ,\n",
      "        1.        ,  0.99639964,  1.        ,  1.        ,  0.99834983,\n",
      "        1.        ,  1.        ,  1.        ,  1.        ,  1.        ,\n",
      "        1.        ,  1.        ,  1.        ,  1.        ,  1.        ]), 'split0_test_score': array([ 0.11297573,  0.17770453,  0.36619718,  0.94665868,  0.46179203,\n",
      "        0.18699431,  0.94755769,  0.11267606,  0.61402457,  0.94605933,\n",
      "        0.11267606,  0.35121366,  0.94066527,  0.17530716,  0.5996404 ,\n",
      "        0.49056038,  0.54450105,  0.11297573,  0.83068625,  0.87114174]), 'mean_test_score': array([ 0.1129,  0.1776,  0.3677,  0.9468,  0.4615,  0.1854,  0.9476,\n",
      "        0.1127,  0.6174,  0.9471,  0.1127,  0.3513,  0.9404,  0.1747,\n",
      "        0.5869,  0.4923,  0.5384,  0.1129,  0.8303,  0.8712]), 'param_C': masked_array(data = [0.8630828937395717 4.4840923144089349 9.8798951199660259\n",
      " 5.1112046365993784 2.7843898010187118 6.8922999612094049 3.909411331485384\n",
      " 2.9814559930799356 2.2338535357991551 9.4120601968902164\n",
      " 6.1054891746412245 2.4030287902096483 9.1912837488673116\n",
      " 5.3341258067376582 6.7901324088391375 2.1484909029779509\n",
      " 3.8238468938505901 3.7589038578059299 7.7864750651950931\n",
      " 5.8262533264395397],\n",
      "             mask = [False False False False False False False False False False False False\n",
      " False False False False False False False False],\n",
      "       fill_value = ?)\n",
      ", 'split2_train_score': array([ 1.        ,  1.        ,  1.        ,  0.99835107,  1.        ,\n",
      "        1.        ,  0.99745166,  1.        ,  1.        ,  0.99865088,\n",
      "        1.        ,  1.        ,  1.        ,  1.        ,  1.        ,\n",
      "        1.        ,  1.        ,  1.        ,  1.        ,  1.        ]), 'split0_train_score': array([ 1.        ,  1.        ,  1.        ,  0.99819901,  1.        ,\n",
      "        1.        ,  0.99729851,  1.        ,  1.        ,  0.99834909,\n",
      "        1.        ,  1.        ,  1.        ,  1.        ,  1.        ,\n",
      "        1.        ,  1.        ,  1.        ,  1.        ,  1.        ]), 'params': ({'C': 0.8630828937395717, 'gamma': 0.21865347140571714}, {'C': 4.4840923144089349, 'gamma': 0.14804560990495677}, {'C': 9.8798951199660259, 'gamma': 0.041256046816885515}, {'C': 5.1112046365993784, 'gamma': 0.0016449526454171705}, {'C': 2.7843898010187118, 'gamma': 0.031597120213268784}, {'C': 6.8922999612094049, 'gamma': 0.25776094086318252}, {'C': 3.909411331485384, 'gamma': 0.0015769177465114227}, {'C': 2.9814559930799356, 'gamma': 0.53552602750973266}, {'C': 2.2338535357991551, 'gamma': 0.022718093648132445}, {'C': 9.4120601968902164, 'gamma': 0.0011876751853526621}, {'C': 6.1054891746412245, 'gamma': 0.70857936570379576}, {'C': 2.4030287902096483, 'gamma': 0.044204833356897774}, {'C': 9.1912837488673116, 'gamma': 0.0025090443458586713}, {'C': 5.3341258067376582, 'gamma': 0.17833212198767007}, {'C': 6.7901324088391375, 'gamma': 0.025308043906324029}, {'C': 2.1484909029779509, 'gamma': 0.029668641940548336}, {'C': 3.8238468938505901, 'gamma': 0.027052254503857703}, {'C': 3.7589038578059299, 'gamma': 0.32640288064088641}, {'C': 7.7864750651950931, 'gamma': 0.0087495160396715479}, {'C': 5.8262533264395397, 'gamma': 0.0067320470873796466}), 'std_fit_time': array([ 1.1957024 ,  0.27978496,  0.64405311,  0.02404   ,  0.24160823,\n",
      "        0.3885804 ,  0.10385118,  0.05234678,  1.74772122,  0.27389572,\n",
      "        2.06777954,  1.87225123,  0.471643  ,  1.24533729,  0.88304577,\n",
      "        0.8180892 ,  0.83458378,  0.77841697,  0.81395176,  1.3561384 ]), 'std_score_time': array([ 0.09869924,  0.07219864,  0.04705547,  0.04508209,  0.08966503,\n",
      "        0.11398575,  0.08059271,  0.17829494,  0.17658838,  0.15647365,\n",
      "        0.17338654,  0.14790743,  0.17298855,  0.11134551,  0.11796063,\n",
      "        0.14523078,  0.09699729,  0.15808544,  0.09291513,  0.33298204]), 'split2_test_score': array([ 0.11264644,  0.17693001,  0.36557525,  0.94472815,  0.45719435,\n",
      "        0.18173626,  0.94472815,  0.11264644,  0.61099429,  0.94412737,\n",
      "        0.11264644,  0.35085611,  0.93721838,  0.17332532,  0.57134275,\n",
      "        0.48753379,  0.52598378,  0.11264644,  0.83148093,  0.87473716]), 'mean_train_score': array([ 1.        ,  1.        ,  1.        ,  0.99804995,  1.        ,\n",
      "        1.        ,  0.99704994,  1.        ,  1.        ,  0.99844993,\n",
      "        1.        ,  1.        ,  1.        ,  1.        ,  1.        ,\n",
      "        1.        ,  1.        ,  1.        ,  1.        ,  1.        ]), 'mean_fit_time': array([ 38.18076102,  41.09824125,  37.26091234,   7.96873871,\n",
      "        36.71645888,  38.36860005,   7.67602126,  38.01854841,\n",
      "        35.01484338,   6.12011337,  35.23001663,  35.94749188,\n",
      "         9.434865  ,  37.37607336,  34.13202206,  35.17037662,\n",
      "        34.33379229,  36.1024816 ,  28.85225066,  25.42229303]), 'split1_test_score': array([ 0.11307738,  0.17816437,  0.37132573,  0.9490102 ,  0.4655069 ,\n",
      "        0.18746251,  0.9505099 ,  0.11277744,  0.62717457,  0.95110978,\n",
      "        0.11277744,  0.35182963,  0.94331134,  0.17546491,  0.58968206,\n",
      "        0.49880024,  0.54469106,  0.11307738,  0.82873425,  0.86772645])}\n",
      "CPU times: user 16.5 s, sys: 264 ms, total: 16.8 s\n",
      "Wall time: 26min 27s\n"
     ]
    }
   ],
   "source": [
    "%%time \n",
    "\n",
    "from sklearn.model_selection import RandomizedSearchCV\n",
    "\n",
    "# specify parameters and distributions to sample from\n",
    "from scipy.stats import reciprocal, uniform\n",
    "\n",
    "param_distributions = {\"gamma\": reciprocal(0.001, 1.0), \"C\": uniform(0.1, 10)}\n",
    "\n",
    "\n",
    "# run randomized search\n",
    "n_iter_search = 20\n",
    "random_search = RandomizedSearchCV(SVC(random_state=7), param_distributions=param_distributions, n_iter=n_iter_search ,n_jobs=2,random_state=7)\n",
    "random_search.fit(X_train_pcaed[:10000], Y_train[:10000])\n",
    "print(\"RandomizedSearchCV %d candidates parameter settings.\" % (n_iter_search))\n",
    "print random_search.cv_results_\n"
   ]
  },
  {
   "cell_type": "code",
   "execution_count": 18,
   "metadata": {},
   "outputs": [
    {
     "name": "stdout",
     "output_type": "stream",
     "text": [
      "{'C': 3.909411331485384, 'gamma': 0.0015769177465114227}\n",
      "0.9476\n"
     ]
    }
   ],
   "source": [
    "print random_search.best_params_\n",
    "print random_search.best_score_"
   ]
  },
  {
   "cell_type": "markdown",
   "metadata": {},
   "source": [
    "Then we use the RandomizedSearchCV in order to fine tune our model and find the best possible values for the 'C' and 'gamma' hyperparameters. The values that we got seem to be logical as in theory we know that both a big value for the cost of misclassification ('C') and a small value for the free parameter of the rbf kernel ('gamma') produce a high variance - low bias model. This means that our model is going to produce better results. However, we need to be careful when making the choice for these values as a quite high variance with an extreme low bias indicate that our model has being overfitted."
   ]
  },
  {
   "cell_type": "code",
   "execution_count": 19,
   "metadata": {},
   "outputs": [
    {
     "name": "stdout",
     "output_type": "stream",
     "text": [
      "CPU times: user 17.7 s, sys: 312 ms, total: 18 s\n",
      "Wall time: 1h 7min 17s\n"
     ]
    }
   ],
   "source": [
    "%%time\n",
    "from sklearn.model_selection import GridSearchCV\n",
    "param_grid = [\n",
    "  {'C': [0.001, 0.01, 0.1, 1, 10,100], 'gamma': [0.001, 0.01, 0.1, 1], 'kernel': ['rbf'], 'class_weight':['','balanced']},\n",
    " ]\n",
    "clf = GridSearchCV(SVC(random_state = 7), param_grid, scoring=scoring, n_jobs = 2)\n",
    "clf.fit(X_train_pcaed[:10000], Y_train[:10000])\n"
   ]
  },
  {
   "cell_type": "code",
   "execution_count": 20,
   "metadata": {},
   "outputs": [
    {
     "name": "stdout",
     "output_type": "stream",
     "text": [
      "Best parameters set found on development set:\n",
      "{'kernel': 'rbf', 'C': 10, 'gamma': 0.001, 'class_weight': ''}\n",
      "Grid scores on development set:\n",
      "0.113 (+/-0.000) for {'kernel': 'rbf', 'C': 0.001, 'gamma': 0.001, 'class_weight': ''}\n",
      "0.113 (+/-0.000) for {'kernel': 'rbf', 'C': 0.001, 'gamma': 0.01, 'class_weight': ''}\n",
      "0.113 (+/-0.000) for {'kernel': 'rbf', 'C': 0.001, 'gamma': 0.1, 'class_weight': ''}\n",
      "0.113 (+/-0.000) for {'kernel': 'rbf', 'C': 0.001, 'gamma': 1, 'class_weight': ''}\n",
      "0.099 (+/-0.006) for {'kernel': 'rbf', 'C': 0.001, 'gamma': 0.001, 'class_weight': 'balanced'}\n",
      "0.099 (+/-0.006) for {'kernel': 'rbf', 'C': 0.001, 'gamma': 0.01, 'class_weight': 'balanced'}\n",
      "0.099 (+/-0.006) for {'kernel': 'rbf', 'C': 0.001, 'gamma': 0.1, 'class_weight': 'balanced'}\n",
      "0.099 (+/-0.006) for {'kernel': 'rbf', 'C': 0.001, 'gamma': 1, 'class_weight': 'balanced'}\n",
      "0.531 (+/-0.004) for {'kernel': 'rbf', 'C': 0.01, 'gamma': 0.001, 'class_weight': ''}\n",
      "0.202 (+/-0.002) for {'kernel': 'rbf', 'C': 0.01, 'gamma': 0.01, 'class_weight': ''}\n",
      "0.113 (+/-0.000) for {'kernel': 'rbf', 'C': 0.01, 'gamma': 0.1, 'class_weight': ''}\n",
      "0.113 (+/-0.000) for {'kernel': 'rbf', 'C': 0.01, 'gamma': 1, 'class_weight': ''}\n",
      "0.614 (+/-0.025) for {'kernel': 'rbf', 'C': 0.01, 'gamma': 0.001, 'class_weight': 'balanced'}\n",
      "0.175 (+/-0.007) for {'kernel': 'rbf', 'C': 0.01, 'gamma': 0.01, 'class_weight': 'balanced'}\n",
      "0.101 (+/-0.016) for {'kernel': 'rbf', 'C': 0.01, 'gamma': 0.1, 'class_weight': 'balanced'}\n",
      "0.101 (+/-0.016) for {'kernel': 'rbf', 'C': 0.01, 'gamma': 1, 'class_weight': 'balanced'}\n",
      "0.876 (+/-0.004) for {'kernel': 'rbf', 'C': 0.1, 'gamma': 0.001, 'class_weight': ''}\n",
      "0.565 (+/-0.067) for {'kernel': 'rbf', 'C': 0.1, 'gamma': 0.01, 'class_weight': ''}\n",
      "0.113 (+/-0.000) for {'kernel': 'rbf', 'C': 0.1, 'gamma': 0.1, 'class_weight': ''}\n",
      "0.113 (+/-0.000) for {'kernel': 'rbf', 'C': 0.1, 'gamma': 1, 'class_weight': ''}\n",
      "0.876 (+/-0.004) for {'kernel': 'rbf', 'C': 0.1, 'gamma': 0.001, 'class_weight': 'balanced'}\n",
      "0.478 (+/-0.031) for {'kernel': 'rbf', 'C': 0.1, 'gamma': 0.01, 'class_weight': 'balanced'}\n",
      "0.099 (+/-0.008) for {'kernel': 'rbf', 'C': 0.1, 'gamma': 0.1, 'class_weight': 'balanced'}\n",
      "0.099 (+/-0.008) for {'kernel': 'rbf', 'C': 0.1, 'gamma': 1, 'class_weight': 'balanced'}\n",
      "0.939 (+/-0.004) for {'kernel': 'rbf', 'C': 1, 'gamma': 0.001, 'class_weight': ''}\n",
      "0.790 (+/-0.008) for {'kernel': 'rbf', 'C': 1, 'gamma': 0.01, 'class_weight': ''}\n",
      "0.186 (+/-0.001) for {'kernel': 'rbf', 'C': 1, 'gamma': 0.1, 'class_weight': ''}\n",
      "0.113 (+/-0.000) for {'kernel': 'rbf', 'C': 1, 'gamma': 1, 'class_weight': ''}\n",
      "0.939 (+/-0.004) for {'kernel': 'rbf', 'C': 1, 'gamma': 0.001, 'class_weight': 'balanced'}\n",
      "0.790 (+/-0.008) for {'kernel': 'rbf', 'C': 1, 'gamma': 0.01, 'class_weight': 'balanced'}\n",
      "0.184 (+/-0.007) for {'kernel': 'rbf', 'C': 1, 'gamma': 0.1, 'class_weight': 'balanced'}\n",
      "0.110 (+/-0.009) for {'kernel': 'rbf', 'C': 1, 'gamma': 1, 'class_weight': 'balanced'}\n",
      "0.947 (+/-0.004) for {'kernel': 'rbf', 'C': 10, 'gamma': 0.001, 'class_weight': ''}\n",
      "0.804 (+/-0.006) for {'kernel': 'rbf', 'C': 10, 'gamma': 0.01, 'class_weight': ''}\n",
      "0.191 (+/-0.003) for {'kernel': 'rbf', 'C': 10, 'gamma': 0.1, 'class_weight': ''}\n",
      "0.113 (+/-0.000) for {'kernel': 'rbf', 'C': 10, 'gamma': 1, 'class_weight': ''}\n",
      "0.947 (+/-0.005) for {'kernel': 'rbf', 'C': 10, 'gamma': 0.001, 'class_weight': 'balanced'}\n",
      "0.804 (+/-0.006) for {'kernel': 'rbf', 'C': 10, 'gamma': 0.01, 'class_weight': 'balanced'}\n",
      "0.191 (+/-0.003) for {'kernel': 'rbf', 'C': 10, 'gamma': 0.1, 'class_weight': 'balanced'}\n",
      "0.113 (+/-0.000) for {'kernel': 'rbf', 'C': 10, 'gamma': 1, 'class_weight': 'balanced'}\n",
      "0.947 (+/-0.006) for {'kernel': 'rbf', 'C': 100, 'gamma': 0.001, 'class_weight': ''}\n",
      "0.804 (+/-0.006) for {'kernel': 'rbf', 'C': 100, 'gamma': 0.01, 'class_weight': ''}\n",
      "0.191 (+/-0.003) for {'kernel': 'rbf', 'C': 100, 'gamma': 0.1, 'class_weight': ''}\n",
      "0.113 (+/-0.000) for {'kernel': 'rbf', 'C': 100, 'gamma': 1, 'class_weight': ''}\n",
      "0.947 (+/-0.006) for {'kernel': 'rbf', 'C': 100, 'gamma': 0.001, 'class_weight': 'balanced'}\n",
      "0.804 (+/-0.006) for {'kernel': 'rbf', 'C': 100, 'gamma': 0.01, 'class_weight': 'balanced'}\n",
      "0.191 (+/-0.003) for {'kernel': 'rbf', 'C': 100, 'gamma': 0.1, 'class_weight': 'balanced'}\n",
      "0.113 (+/-0.000) for {'kernel': 'rbf', 'C': 100, 'gamma': 1, 'class_weight': 'balanced'}\n",
      "Detailed classification report:\n",
      "             precision    recall  f1-score   support\n",
      "\n",
      "          0       0.98      0.98      0.98       797\n",
      "          1       0.97      0.99      0.98       913\n",
      "          2       0.92      0.96      0.93       782\n",
      "          3       0.95      0.94      0.94       835\n",
      "          4       0.95      0.96      0.95       773\n",
      "          5       0.94      0.94      0.94       697\n",
      "          6       0.97      0.97      0.97       756\n",
      "          7       0.95      0.95      0.95       839\n",
      "          8       0.97      0.93      0.95       807\n",
      "          9       0.94      0.93      0.93       801\n",
      "\n",
      "avg / total       0.95      0.95      0.95      8000\n",
      "\n"
     ]
    }
   ],
   "source": [
    "from sklearn.metrics import classification_report\n",
    "print(\"Best parameters set found on development set:\")\n",
    "print(clf.best_params_)\n",
    "print(\"Grid scores on development set:\")\n",
    "means = clf.cv_results_['mean_test_score']\n",
    "stds = clf.cv_results_['std_test_score']\n",
    "for mean, std, params in zip(means, stds, clf.cv_results_['params']):\n",
    "    print(\"%0.3f (+/-%0.03f) for %r\"% (mean, std * 2, params))\n",
    "print(\"Detailed classification report:\")\n",
    "y_true, y_pred = Y_test[:8000], clf.predict(X_test_pcaed[:8000])\n",
    "print(classification_report(y_true, y_pred))\n"
   ]
  },
  {
   "cell_type": "markdown",
   "metadata": {},
   "source": [
    "We also used the GridSearchCV algorithm (for experimental purposes) for the same reason, to see if we could find better values for the hyperparameters as this does an exhaustive search between all the possible values given.\n",
    "\n",
    "GridSearchCV showed even better results with a value of 10 for 'C' and a value of 0.001 for 'gamma'.\n",
    "\n",
    "At this point, we have to mention that as expected, the choice of weighting the classes (because of the difference in the count of objects in each class that we mentioned before) produces the same results with the model that did not have a class weigthing scheme. Later on, we are going to see that the difference is also minimal for the whole train set."
   ]
  },
  {
   "cell_type": "markdown",
   "metadata": {},
   "source": [
    "## Step 8: Finalise Model\n",
    "Predictions on validation set, create model from the entire (training) dataset."
   ]
  },
  {
   "cell_type": "code",
   "execution_count": 27,
   "metadata": {},
   "outputs": [
    {
     "name": "stdout",
     "output_type": "stream",
     "text": [
      "CPU times: user 3min 25s, sys: 216 ms, total: 3min 25s\n",
      "Wall time: 3min 26s\n"
     ]
    }
   ],
   "source": [
    "%%time\n",
    "model = SVC(random_state=7)\n",
    "model.fit(X_train_pcaed, Y_train)\n",
    "pred = model.predict(X_test_pcaed)"
   ]
  },
  {
   "cell_type": "code",
   "execution_count": 28,
   "metadata": {},
   "outputs": [
    {
     "name": "stdout",
     "output_type": "stream",
     "text": [
      "0.956785714286\n",
      "SVC(C=1.0, cache_size=200, class_weight=None, coef0=0.0,\n",
      "  decision_function_shape=None, degree=3, gamma='auto', kernel='rbf',\n",
      "  max_iter=-1, probability=False, random_state=7, shrinking=True,\n",
      "  tol=0.001, verbose=False)\n"
     ]
    }
   ],
   "source": [
    "print (accuracy_score(Y_test, pred))\n",
    "print model"
   ]
  },
  {
   "cell_type": "code",
   "execution_count": 29,
   "metadata": {},
   "outputs": [
    {
     "name": "stdout",
     "output_type": "stream",
     "text": [
      "CPU times: user 1min 30s, sys: 80 ms, total: 1min 30s\n",
      "Wall time: 1min 31s\n"
     ]
    }
   ],
   "source": [
    "%%time\n",
    "model_c = SVC(C=10,gamma=0.001,random_state=7)\n",
    "model_c.fit(X_train_pcaed, Y_train)\n",
    "pred_c= model_c.predict(X_test_pcaed)"
   ]
  },
  {
   "cell_type": "code",
   "execution_count": 30,
   "metadata": {},
   "outputs": [
    {
     "name": "stdout",
     "output_type": "stream",
     "text": [
      "0.969166666667\n",
      "SVC(C=10, cache_size=200, class_weight=None, coef0=0.0,\n",
      "  decision_function_shape=None, degree=3, gamma=0.001, kernel='rbf',\n",
      "  max_iter=-1, probability=False, random_state=7, shrinking=True,\n",
      "  tol=0.001, verbose=False)\n"
     ]
    }
   ],
   "source": [
    "print (accuracy_score(Y_test, pred_c))\n",
    "print model_c"
   ]
  },
  {
   "cell_type": "code",
   "execution_count": 31,
   "metadata": {},
   "outputs": [
    {
     "name": "stdout",
     "output_type": "stream",
     "text": [
      "CPU times: user 1min 30s, sys: 292 ms, total: 1min 30s\n",
      "Wall time: 1min 31s\n"
     ]
    }
   ],
   "source": [
    "%%time\n",
    "model_try = SVC(C=10,gamma=0.001,class_weight = 'balanced',random_state=7)\n",
    "model_try.fit(X_train_pcaed, Y_train)\n",
    "pred_try = model_try.predict(X_test_pcaed)"
   ]
  },
  {
   "cell_type": "code",
   "execution_count": 32,
   "metadata": {},
   "outputs": [
    {
     "name": "stdout",
     "output_type": "stream",
     "text": [
      "0.969523809524\n",
      "SVC(C=10, cache_size=200, class_weight='balanced', coef0=0.0,\n",
      "  decision_function_shape=None, degree=3, gamma=0.001, kernel='rbf',\n",
      "  max_iter=-1, probability=False, random_state=7, shrinking=True,\n",
      "  tol=0.001, verbose=False)\n"
     ]
    }
   ],
   "source": [
    "print (accuracy_score(Y_test, pred_try))\n",
    "print model_try"
   ]
  },
  {
   "cell_type": "markdown",
   "metadata": {},
   "source": [
    "At this point we trained 3 models just to prove the previous findings right. As we can see, the standard model with the preset hyperparameters did quite well but still scored around 1.3 % lower than the fine tuned models.\n",
    "\n",
    "As for the 2 fine tuned models we can observe that the actuall difference in the accuracy of the produced models is minimal between balanced and unbalanced classes. (Of course, as mentioned earlier this happens only because the classes of the dataset have a quite low difference in terms of numbers of instances with each other)"
   ]
  },
  {
   "cell_type": "code",
   "execution_count": 33,
   "metadata": {},
   "outputs": [
    {
     "data": {
      "text/plain": [
       "array([[822,   0,   2,   1,   1,   1,   3,   1,   1,   1],\n",
       "       [  0, 952,   4,   0,   0,   0,   0,   1,   0,   1],\n",
       "       [  0,   3, 792,   6,   1,   1,   0,  11,   1,   0],\n",
       "       [  0,   2,   8, 838,   2,  10,   0,   9,   6,   4],\n",
       "       [  2,   9,   3,   0, 787,   1,   4,   5,   0,   9],\n",
       "       [  0,   0,   3,  15,   1, 701,   1,   4,   4,   3],\n",
       "       [  2,   1,   2,   0,   3,   2, 781,   3,   0,   0],\n",
       "       [  1,   2,   4,   1,   5,   0,   1, 858,   0,  11],\n",
       "       [  6,   3,   5,   4,   7,   2,   2,   6, 803,   3],\n",
       "       [  1,   1,   2,   5,  10,   2,   0,  14,   3, 807]])"
      ]
     },
     "execution_count": 33,
     "metadata": {},
     "output_type": "execute_result"
    }
   ],
   "source": [
    "confusion_matrix(Y_test, pred_c)"
   ]
  },
  {
   "cell_type": "code",
   "execution_count": 34,
   "metadata": {},
   "outputs": [
    {
     "data": {
      "text/plain": [
       "array([[822,   0,   2,   1,   1,   1,   3,   1,   1,   1],\n",
       "       [  0, 952,   4,   0,   0,   0,   0,   1,   0,   1],\n",
       "       [  0,   3, 792,   6,   1,   1,   0,  11,   1,   0],\n",
       "       [  0,   2,   8, 838,   2,  11,   0,   9,   6,   3],\n",
       "       [  2,   8,   3,   0, 788,   1,   4,   5,   0,   9],\n",
       "       [  0,   0,   3,  14,   1, 702,   1,   4,   4,   3],\n",
       "       [  1,   1,   2,   0,   3,   2, 782,   3,   0,   0],\n",
       "       [  1,   2,   4,   1,   5,   0,   1, 858,   0,  11],\n",
       "       [  6,   3,   5,   4,   7,   2,   2,   6, 803,   3],\n",
       "       [  1,   1,   2,   5,  10,   2,   0,  14,   3, 807]])"
      ]
     },
     "execution_count": 34,
     "metadata": {},
     "output_type": "execute_result"
    }
   ],
   "source": [
    "confusion_matrix(Y_test, pred_try)"
   ]
  },
  {
   "cell_type": "markdown",
   "metadata": {
    "collapsed": true
   },
   "source": [
    "Last but not least, we print the confusion matrices of our 2 best models to have a better look on the actual outcome and the capabilities of our models!"
   ]
  },
  {
   "cell_type": "code",
   "execution_count": 35,
   "metadata": {},
   "outputs": [
    {
     "data": {
      "text/plain": [
       "(33600, 316)"
      ]
     },
     "execution_count": 35,
     "metadata": {},
     "output_type": "execute_result"
    }
   ],
   "source": [
    "X_train_pcaed.shape"
   ]
  },
  {
   "cell_type": "code",
   "execution_count": 36,
   "metadata": {},
   "outputs": [
    {
     "data": {
      "text/plain": [
       "(8400, 316)"
      ]
     },
     "execution_count": 36,
     "metadata": {},
     "output_type": "execute_result"
    }
   ],
   "source": [
    "X_test_pcaed.shape"
   ]
  },
  {
   "cell_type": "code",
   "execution_count": null,
   "metadata": {
    "collapsed": true
   },
   "outputs": [],
   "source": []
  }
 ],
 "metadata": {
  "kernelspec": {
   "display_name": "Python 2",
   "language": "python",
   "name": "python2"
  },
  "language_info": {
   "codemirror_mode": {
    "name": "ipython",
    "version": 2
   },
   "file_extension": ".py",
   "mimetype": "text/x-python",
   "name": "python",
   "nbconvert_exporter": "python",
   "pygments_lexer": "ipython2",
   "version": "2.7.13"
  }
 },
 "nbformat": 4,
 "nbformat_minor": 2
}
